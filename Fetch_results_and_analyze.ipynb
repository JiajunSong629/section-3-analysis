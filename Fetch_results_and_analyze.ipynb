{
 "cells": [
  {
   "cell_type": "code",
   "execution_count": 2,
   "metadata": {},
   "outputs": [],
   "source": [
    "import json\n",
    "import os\n",
    "import numpy as np\n",
    "import re\n",
    "import matplotlib.pyplot as plt\n",
    "\n",
    "out_dir = \"out\""
   ]
  },
  {
   "cell_type": "markdown",
   "metadata": {},
   "source": [
    "## Shuffle and Project"
   ]
  },
  {
   "cell_type": "code",
   "execution_count": 2,
   "metadata": {},
   "outputs": [],
   "source": [
    "def result_to_acc(result):\n",
    "    prob_err = {}\n",
    "    for exp_id, exp_res in result.items():\n",
    "        prob_err[exp_id] = {\n",
    "            \"prob\": np.mean(exp_res[\"prob\"]),\n",
    "            \"err\": np.mean(exp_res[\"err\"]),\n",
    "        }\n",
    "    return prob_err\n",
    "\n",
    "\n",
    "def fetch_shuffle_acc(model_name, method=\"diagonal\"):\n",
    "    path_to_dir = os.path.join(out_dir, model_name)\n",
    "    files = os.listdir(path_to_dir)\n",
    "\n",
    "    qks = []\n",
    "    ovs = []\n",
    "    for file in files:\n",
    "        if file.endswith(f\"{method}.json\"):\n",
    "            if file.startswith(\"shuffle_result_QK\"):\n",
    "                qks.append(file)\n",
    "            if file.startswith(\"shuffle_result_OV\"):\n",
    "                ovs.append(file)\n",
    "    pattern = re.compile(r\"_(\\d+)_\")\n",
    "\n",
    "    qk = sorted(qks, key=lambda x: int(pattern.search(x).group(1)), reverse=True)[0]\n",
    "    ov = sorted(ovs, key=lambda x: int(pattern.search(x).group(1)), reverse=True)[0]\n",
    "\n",
    "    qk_acc = result_to_acc(json.load(open(os.path.join(path_to_dir, qk), \"r\")))\n",
    "    ov_acc = result_to_acc(json.load(open(os.path.join(path_to_dir, ov), \"r\")))\n",
    "\n",
    "    return {\"qk\": qk_acc, \"ov\": ov_acc}\n",
    "\n",
    "\n",
    "def fetch_project_acc(model_name, method=\"diagonal\"):\n",
    "    path_to_dir = os.path.join(out_dir, model_name)\n",
    "    files = os.listdir(path_to_dir)\n",
    "\n",
    "    ovs_true = []\n",
    "    ovs_false = []\n",
    "    qks_true = []\n",
    "    qks_false = []\n",
    "\n",
    "    for file in files:\n",
    "        if file.endswith(f\"{method}.json\"):\n",
    "            if file.startswith(\"proj_QK_proj_True\"):\n",
    "                qks_true.append(file)\n",
    "            if file.startswith(\"proj_QK_proj_False\"):\n",
    "                qks_false.append(file)\n",
    "            if file.startswith(\"proj_OV_proj_True\"):\n",
    "                ovs_true.append(file)\n",
    "            if file.startswith(\"proj_OV_proj_False\"):\n",
    "                ovs_false.append(file)\n",
    "\n",
    "    pattern = re.compile(r\"_(\\d+)_\")\n",
    "\n",
    "    qk_true = sorted(\n",
    "        qks_true, key=lambda x: int(pattern.search(x).group(1)), reverse=True\n",
    "    )[0]\n",
    "    qk_false = sorted(\n",
    "        qks_false, key=lambda x: int(pattern.search(x).group(1)), reverse=True\n",
    "    )[0]\n",
    "    ov_true = sorted(\n",
    "        ovs_true, key=lambda x: int(pattern.search(x).group(1)), reverse=True\n",
    "    )[0]\n",
    "    ov_false = sorted(\n",
    "        ovs_false, key=lambda x: int(pattern.search(x).group(1)), reverse=True\n",
    "    )[0]\n",
    "\n",
    "    return {\n",
    "        \"qk_true\": result_to_acc(\n",
    "            json.load(open(os.path.join(path_to_dir, qk_true), \"r\"))\n",
    "        ),\n",
    "        \"qk_false\": result_to_acc(\n",
    "            json.load(open(os.path.join(path_to_dir, qk_false), \"r\"))\n",
    "        ),\n",
    "        \"ov_true\": result_to_acc(\n",
    "            json.load(open(os.path.join(path_to_dir, ov_true), \"r\"))\n",
    "        ),\n",
    "        \"ov_false\": result_to_acc(\n",
    "            json.load(open(os.path.join(path_to_dir, ov_false), \"r\"))\n",
    "        ),\n",
    "    }"
   ]
  },
  {
   "cell_type": "code",
   "execution_count": 3,
   "metadata": {},
   "outputs": [
    {
     "data": {
      "text/plain": [
       "{'qk': {'original': {'prob': 0.899455459680443, 'err': 0.036444444444444446},\n",
       "  'random baseline 1': {'prob': 0.4490552086649273, 'err': 0.4351111111111111},\n",
       "  'random baseline 2': {'prob': 0.5014430214017337,\n",
       "   'err': 0.34044444444444444},\n",
       "  'random baseline 3': {'prob': 0.5128369831766146,\n",
       "   'err': 0.32355555555555554},\n",
       "  'random baseline 4': {'prob': 0.8077955042272358,\n",
       "   'err': 0.09066666666666667},\n",
       "  'random baseline 5': {'prob': 0.7343159146407805, 'err': 0.1537777777777778},\n",
       "  'random baseline 6': {'prob': 0.2566409989642922, 'err': 0.6457777777777778},\n",
       "  'random baseline 7': {'prob': 0.5012906533550975, 'err': 0.332},\n",
       "  'random baseline 8': {'prob': 0.47929411710749165,\n",
       "   'err': 0.3888888888888889},\n",
       "  'random baseline 9': {'prob': 0.563392100440043, 'err': 0.27066666666666667},\n",
       "  'random baseline 10': {'prob': 0.5707179739724278,\n",
       "   'err': 0.26666666666666666},\n",
       "  'shuffle 1': {'prob': 0.8679699026504091, 'err': 0.06088888888888889},\n",
       "  'shuffle 2': {'prob': 0.8121736260572378, 'err': 0.09333333333333334},\n",
       "  'shuffle 3': {'prob': 0.8838337240101432, 'err': 0.04888888888888889},\n",
       "  'shuffle 4': {'prob': 0.7490345360623586, 'err': 0.12266666666666666},\n",
       "  'shuffle 5': {'prob': 0.8707267124692032, 'err': 0.05288888888888889},\n",
       "  'shuffle 6': {'prob': 0.8680987927746606, 'err': 0.05688888888888889},\n",
       "  'shuffle 7': {'prob': 0.8033435958786033, 'err': 0.09822222222222222},\n",
       "  'shuffle 8': {'prob': 0.7866952788810275, 'err': 0.11244444444444444},\n",
       "  'shuffle 9': {'prob': 0.8322579932583516, 'err': 0.07466666666666667},\n",
       "  'shuffle 10': {'prob': 0.8951935917143652, 'err': 0.04488888888888889}},\n",
       " 'ov': {'original': {'prob': 0.8985884833972242, 'err': 0.03911111111111111},\n",
       "  'random baseline 1': {'prob': 0.3643304453971709, 'err': 0.4537777777777778},\n",
       "  'random baseline 2': {'prob': 0.060068752139849316,\n",
       "   'err': 0.8604444444444445},\n",
       "  'random baseline 3': {'prob': 0.45252709386387424,\n",
       "   'err': 0.33466666666666667},\n",
       "  'random baseline 4': {'prob': 0.5459088378984699,\n",
       "   'err': 0.22577777777777777},\n",
       "  'random baseline 5': {'prob': 0.4954122207165633, 'err': 0.3417777777777778},\n",
       "  'random baseline 6': {'prob': 0.41232301684213923,\n",
       "   'err': 0.37466666666666665},\n",
       "  'random baseline 7': {'prob': 0.3641778144447051, 'err': 0.4142222222222222},\n",
       "  'random baseline 8': {'prob': 0.4189882199713409, 'err': 0.396},\n",
       "  'random baseline 9': {'prob': 0.48907135167588767,\n",
       "   'err': 0.33111111111111113},\n",
       "  'random baseline 10': {'prob': 0.34089216304869346,\n",
       "   'err': 0.4915555555555556},\n",
       "  'shuffle 1': {'prob': 0.7388195216676829, 'err': 0.14666666666666667},\n",
       "  'shuffle 2': {'prob': 0.7294828074029267, 'err': 0.14444444444444443},\n",
       "  'shuffle 3': {'prob': 0.8055446381905399, 'err': 0.09288888888888888},\n",
       "  'shuffle 4': {'prob': 0.884348962653942, 'err': 0.052},\n",
       "  'shuffle 5': {'prob': 0.8579288930294272, 'err': 0.06444444444444444},\n",
       "  'shuffle 6': {'prob': 0.7056109579570552, 'err': 0.16044444444444445},\n",
       "  'shuffle 7': {'prob': 0.770818900695619, 'err': 0.11422222222222222},\n",
       "  'shuffle 8': {'prob': 0.7845714900084624, 'err': 0.108},\n",
       "  'shuffle 9': {'prob': 0.7245026571499196, 'err': 0.15466666666666667},\n",
       "  'shuffle 10': {'prob': 0.6736036890069412, 'err': 0.1928888888888889}}}"
      ]
     },
     "execution_count": 3,
     "metadata": {},
     "output_type": "execute_result"
    }
   ],
   "source": [
    "model_name = \"gemma-7b\"\n",
    "shuffle = fetch_shuffle_acc(model_name)\n",
    "project = fetch_project_acc(model_name)\n",
    "\n",
    "shuffle"
   ]
  },
  {
   "cell_type": "code",
   "execution_count": null,
   "metadata": {},
   "outputs": [],
   "source": []
  },
  {
   "cell_type": "markdown",
   "metadata": {},
   "source": [
    "## Distribution of Diagonal and Subspace"
   ]
  },
  {
   "cell_type": "code",
   "execution_count": 8,
   "metadata": {},
   "outputs": [
    {
     "data": {
      "image/png": "[encoded data removed]",
      "text/plain": [
       "<Figure size 640x480 with 1 Axes>"
      ]
     },
     "metadata": {},
     "output_type": "display_data"
    }
   ],
   "source": [
    "def fetch_diagonal(model_name):\n",
    "    with open(f\"{out_dir}/{model_name}/diagonal_random.json\") as f:\n",
    "        d = json.load(f)\n",
    "    \n",
    "    return np.array([dd[\"score\"] for dd in d])\n",
    "\n",
    "\n",
    "plt.hist(fetch_diagonal(\"gpt2\"), bins=50)\n",
    "plt.show()"
   ]
  },
  {
   "cell_type": "code",
   "execution_count": 13,
   "metadata": {},
   "outputs": [
    {
     "data": {
      "image/png": "[encoded data removed]",
      "text/plain": [
       "<Figure size 640x480 with 1 Axes>"
      ]
     },
     "metadata": {},
     "output_type": "display_data"
    }
   ],
   "source": [
    "def fetch_subspace(model_name, return_baseline=False):\n",
    "    with open(f\"{out_dir}/{model_name}/subspace_IH_PTH_K60_largest_random.json\") as f:\n",
    "        d = json.load(f)\n",
    "    \n",
    "    baseline = d[0][\"baseline\"]\n",
    "    stats = np.array([dd[\"score\"] for dd in d[1:]])\n",
    "    if return_baseline:\n",
    "        return stats, baseline\n",
    "    \n",
    "    return stats\n",
    "\n",
    "stats, baseline = fetch_subspace(\"gpt2\", return_baseline=True)\n",
    "plt.hist(stats, bins=50)\n",
    "plt.title(round(baseline, 3))\n",
    "plt.show()"
   ]
  }
 ],
 "metadata": {
  "kernelspec": {
   "display_name": ".venv",
   "language": "python",
   "name": "python3"
  },
  "language_info": {
   "codemirror_mode": {
    "name": "ipython",
    "version": 3
   },
   "file_extension": ".py",
   "mimetype": "text/x-python",
   "name": "python",
   "nbconvert_exporter": "python",
   "pygments_lexer": "ipython3",
   "version": "3.11.5"
  }
 },
 "nbformat": 4,
 "nbformat_minor": 2
}
