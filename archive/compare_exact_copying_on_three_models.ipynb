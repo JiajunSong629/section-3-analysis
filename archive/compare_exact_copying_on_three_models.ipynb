{
 "cells": [
  {
   "cell_type": "code",
   "execution_count": 1,
   "metadata": {},
   "outputs": [],
   "source": [
    "from transformers import GemmaForCausalLM, GemmaTokenizer\n",
    "from transformers import GPT2LMHeadModel\n",
    "from transformers import LlamaForCausalLM\n",
    "import torch\n",
    "import gc\n",
    "import numpy as np\n",
    "import random\n",
    "import torch.nn.functional as F"
   ]
  },
  {
   "cell_type": "markdown",
   "metadata": {},
   "source": [
    "# Gemma-7b"
   ]
  },
  {
   "cell_type": "code",
   "execution_count": 2,
   "metadata": {},
   "outputs": [
    {
     "data": {
      "application/vnd.jupyter.widget-view+json": {
       "model_id": "ae1876b896bc4751b9a834bd11ae6252",
       "version_major": 2,
       "version_minor": 0
      },
      "text/plain": [
       "Loading checkpoint shards:   0%|          | 0/4 [00:00<?, ?it/s]"
      ]
     },
     "metadata": {},
     "output_type": "display_data"
    }
   ],
   "source": [
    "gemma = GemmaForCausalLM.from_pretrained(\n",
    "    \"google/gemma-7b\",\n",
    "    torch_dtype=torch.bfloat16,\n",
    "    device_map=\"cuda\",\n",
    "    output_attentions=True,\n",
    ")\n",
    "tokenizer = GemmaTokenizer.from_pretrained(\"google/gemma-7b\")\n",
    "configuration = gemma.config"
   ]
  },
  {
   "cell_type": "markdown",
   "metadata": {},
   "source": [
    "## add BOS"
   ]
  },
  {
   "cell_type": "code",
   "execution_count": 31,
   "metadata": {},
   "outputs": [
    {
     "name": "stdout",
     "output_type": "stream",
     "text": [
      "0.8666666666666667\n",
      "0.7333333333333333\n",
      "1.0\n",
      "1.0\n",
      "1.0\n",
      "0.8666666666666667\n",
      "0.9333333333333333\n",
      "0.9333333333333333\n",
      "1.0\n",
      "1.0\n"
     ]
    }
   ],
   "source": [
    "np.random.seed(2024)\n",
    "\n",
    "T0 = 10\n",
    "rep = 3\n",
    "\n",
    "for _ in range(10):\n",
    "    segment = np.random.randint(low=0, high=configuration.vocab_size, size=T0).tolist()\n",
    "\n",
    "    input_ids = np.concatenate([segment for _ in range(3)])\n",
    "    input_ids = np.concatenate([[2], input_ids])  ############ ADD BOS Here\n",
    "    input_ids = torch.Tensor(input_ids).long().unsqueeze(0).cuda()\n",
    "    with torch.no_grad():\n",
    "        logits = gemma(input_ids).logits\n",
    "\n",
    "    probs = F.softmax(logits.float(), dim=-1)\n",
    "    top_prob, pred_next_token_ids = torch.topk(probs, dim=-1, k=1)\n",
    "\n",
    "    correct_token_ids = input_ids[0, 1:]\n",
    "    pred_token_ids = pred_next_token_ids[0, :-1, 0]\n",
    "    T_range = range(T0 + T0 // 2, rep * T0)\n",
    "\n",
    "    print(np.mean(((correct_token_ids == pred_token_ids).numpy(force=True))[T_range]))"
   ]
  },
  {
   "cell_type": "markdown",
   "metadata": {},
   "source": [
    "## no BOS"
   ]
  },
  {
   "cell_type": "code",
   "execution_count": 32,
   "metadata": {},
   "outputs": [
    {
     "name": "stdout",
     "output_type": "stream",
     "text": [
      "0.14285714285714285\n",
      "0.35714285714285715\n",
      "0.0\n",
      "0.5\n",
      "0.35714285714285715\n",
      "0.2857142857142857\n",
      "0.21428571428571427\n",
      "0.07142857142857142\n",
      "0.14285714285714285\n",
      "0.2857142857142857\n"
     ]
    }
   ],
   "source": [
    "np.random.seed(2024)\n",
    "\n",
    "T0 = 10\n",
    "rep = 3\n",
    "\n",
    "for _ in range(10):\n",
    "    segment = np.random.randint(low=0, high=configuration.vocab_size, size=T0).tolist()\n",
    "\n",
    "    input_ids = np.concatenate([segment for _ in range(rep)])\n",
    "    # input_ids = np.concatenate([[2], input_ids]) ########## BOS Commented out\n",
    "    input_ids = torch.Tensor(input_ids).long().unsqueeze(0).cuda()\n",
    "    with torch.no_grad():\n",
    "        logits = gemma(input_ids).logits\n",
    "\n",
    "    probs = F.softmax(logits.float(), dim=-1)\n",
    "    top_prob, pred_next_token_ids = torch.topk(probs, dim=-1, k=1)\n",
    "\n",
    "    correct_token_ids = input_ids[0, 1:]\n",
    "    pred_token_ids = pred_next_token_ids[0, :-1, 0]\n",
    "    T_range = range(T0 + T0 // 2, rep * T0 - 1)\n",
    "\n",
    "    print(np.mean(((correct_token_ids == pred_token_ids).numpy(force=True))[T_range]))"
   ]
  },
  {
   "cell_type": "code",
   "execution_count": null,
   "metadata": {},
   "outputs": [],
   "source": []
  },
  {
   "cell_type": "code",
   "execution_count": null,
   "metadata": {},
   "outputs": [],
   "source": []
  },
  {
   "cell_type": "markdown",
   "metadata": {},
   "source": [
    "# Llama2-7b"
   ]
  },
  {
   "cell_type": "code",
   "execution_count": 2,
   "metadata": {},
   "outputs": [
    {
     "data": {
      "application/vnd.jupyter.widget-view+json": {
       "model_id": "8cc9ef40f497413aa259e74bda09f47a",
       "version_major": 2,
       "version_minor": 0
      },
      "text/plain": [
       "Loading checkpoint shards:   0%|          | 0/2 [00:00<?, ?it/s]"
      ]
     },
     "metadata": {},
     "output_type": "display_data"
    }
   ],
   "source": [
    "llama = LlamaForCausalLM.from_pretrained(\n",
    "    \"meta-llama/Llama-2-7b-hf\",\n",
    "    device_map=\"cuda\",\n",
    "    output_attentions=True,\n",
    "    torch_dtype=torch.bfloat16,\n",
    ")\n",
    "model = llama.model\n",
    "configuration = llama.config"
   ]
  },
  {
   "cell_type": "code",
   "execution_count": 3,
   "metadata": {},
   "outputs": [
    {
     "name": "stdout",
     "output_type": "stream",
     "text": [
      "0.9285714626312256\n"
     ]
    }
   ],
   "source": [
    "batch_size = 1\n",
    "T0 = 10\n",
    "T_cnt = T0 + T0 // 2\n",
    "rep = 3\n",
    "vocab_size = configuration.vocab_size\n",
    "\n",
    "np.random.seed(2024)\n",
    "sample_int = np.random.randint(low=0, high=vocab_size, size=batch_size * T0).reshape(\n",
    "    batch_size, T0\n",
    ")\n",
    "sample_int = np.concatenate(tuple([sample_int] * rep), axis=1)\n",
    "input_ids = torch.Tensor(sample_int).long().cuda()\n",
    "correct_next_token_ids = (\n",
    "    torch.Tensor(np.concatenate((sample_int[:, 1:], sample_int[:, :1]), axis=1))\n",
    "    .long()\n",
    "    .cuda()\n",
    ")\n",
    "\n",
    "with torch.no_grad():\n",
    "    out = llama(input_ids)\n",
    "\n",
    "logits = out.logits\n",
    "attentions = out.attentions\n",
    "\n",
    "probs = F.softmax(logits.float(), dim=-1)\n",
    "top_prob, pred_next_token_ids = torch.topk(probs, dim=-1, k=1)\n",
    "\n",
    "print(\n",
    "    (pred_next_token_ids[0, T_cnt:-1, 0] == correct_next_token_ids[:, T_cnt:-1])\n",
    "    .to(torch.float)\n",
    "    .mean()\n",
    "    .item(),\n",
    ")"
   ]
  },
  {
   "cell_type": "code",
   "execution_count": null,
   "metadata": {},
   "outputs": [],
   "source": []
  },
  {
   "cell_type": "code",
   "execution_count": 26,
   "metadata": {},
   "outputs": [
    {
     "name": "stdout",
     "output_type": "stream",
     "text": [
      "0.8571428571428571\n",
      "0.8571428571428571\n",
      "0.7857142857142857\n",
      "1.0\n",
      "0.7142857142857143\n",
      "1.0\n",
      "1.0\n",
      "1.0\n",
      "0.8571428571428571\n",
      "0.7857142857142857\n"
     ]
    },
    {
     "ename": "",
     "evalue": "",
     "output_type": "error",
     "traceback": [
      "\u001b[1;31mThe Kernel crashed while executing code in the current cell or a previous cell. \n",
      "\u001b[1;31mPlease review the code in the cell(s) to identify a possible cause of the failure. \n",
      "\u001b[1;31mClick <a href='https://aka.ms/vscodeJupyterKernelCrash'>here</a> for more info. \n",
      "\u001b[1;31mView Jupyter <a href='command:jupyter.viewOutput'>log</a> for further details."
     ]
    }
   ],
   "source": [
    "# np.random.seed(2024)\n",
    "\n",
    "T0 = 10\n",
    "rep = 3\n",
    "\n",
    "for _ in range(10):\n",
    "    segment = np.random.randint(low=0, high=configuration.vocab_size, size=T0).tolist()\n",
    "\n",
    "    input_ids = np.concatenate([segment for _ in range(rep)])\n",
    "    # input_ids = np.concatenate([[1], input_ids])  ########## BOS Commented out\n",
    "    input_ids = torch.Tensor(input_ids).long().unsqueeze(0).cuda()\n",
    "    with torch.no_grad():\n",
    "        logits = llama(input_ids).logits\n",
    "\n",
    "    probs = F.softmax(logits.float(), dim=-1)\n",
    "    top_prob, pred_next_token_ids = torch.topk(probs, dim=-1, k=1)\n",
    "\n",
    "    correct_token_ids = input_ids[0, 1:]\n",
    "    pred_token_ids = pred_next_token_ids[0, :-1, 0]\n",
    "    T_range = range(T0 + T0 // 2, rep * T0 - 1)\n",
    "\n",
    "    print(np.mean(((correct_token_ids == pred_token_ids).numpy(force=True))[T_range]))"
   ]
  },
  {
   "cell_type": "code",
   "execution_count": null,
   "metadata": {},
   "outputs": [],
   "source": []
  },
  {
   "cell_type": "code",
   "execution_count": null,
   "metadata": {},
   "outputs": [],
   "source": []
  },
  {
   "cell_type": "markdown",
   "metadata": {},
   "source": [
    "# GPT-2"
   ]
  },
  {
   "cell_type": "code",
   "execution_count": 2,
   "metadata": {},
   "outputs": [],
   "source": [
    "gpt2 = GPT2LMHeadModel.from_pretrained(\"gpt2\")\n",
    "configuration = gpt2.config"
   ]
  },
  {
   "cell_type": "code",
   "execution_count": 3,
   "metadata": {},
   "outputs": [
    {
     "name": "stdout",
     "output_type": "stream",
     "text": [
      "1.0\n"
     ]
    }
   ],
   "source": [
    "batch_size = 1\n",
    "T0 = 20\n",
    "T_cnt = T0 + T0 // 2\n",
    "rep = 3\n",
    "vocab_size = configuration.vocab_size\n",
    "\n",
    "np.random.seed(2024)\n",
    "sample_int = np.random.randint(low=0, high=vocab_size, size=batch_size * T0).reshape(\n",
    "    batch_size, T0\n",
    ")\n",
    "sample_int = np.concatenate(tuple([sample_int] * rep), axis=1)\n",
    "input_ids = torch.Tensor(sample_int).long()\n",
    "correct_next_token_ids = torch.Tensor(\n",
    "    np.concatenate((sample_int[:, 1:], sample_int[:, :1]), axis=1)\n",
    ").long()\n",
    "\n",
    "with torch.no_grad():\n",
    "    logits = gpt2(input_ids).logits\n",
    "\n",
    "probs = F.softmax(logits.float(), dim=-1)\n",
    "top_prob, pred_next_token_ids = torch.topk(probs, dim=-1, k=1)\n",
    "\n",
    "print(\n",
    "    (pred_next_token_ids[0, T_cnt:-1, 0] == correct_next_token_ids[:, T_cnt:-1])\n",
    "    .to(torch.float)\n",
    "    .mean()\n",
    "    .item(),\n",
    ")"
   ]
  }
 ],
 "metadata": {
  "kernelspec": {
   "display_name": ".venv",
   "language": "python",
   "name": "python3"
  },
  "language_info": {
   "codemirror_mode": {
    "name": "ipython",
    "version": 3
   },
   "file_extension": ".py",
   "mimetype": "text/x-python",
   "name": "python",
   "nbconvert_exporter": "python",
   "pygments_lexer": "ipython3",
   "version": "3.11.5"
  }
 },
 "nbformat": 4,
 "nbformat_minor": 2
}
