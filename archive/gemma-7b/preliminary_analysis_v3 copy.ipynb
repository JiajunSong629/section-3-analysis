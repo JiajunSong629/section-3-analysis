{
 "cells": [
  {
   "cell_type": "markdown",
   "metadata": {},
   "source": [
    "## Section 3: Mechansim of induction heads and common subspace propoerty\n",
    "### This notebook only looks at GPT-2 \n",
    "\n",
    "**The overall plan is to provide evidence for the four main arguments**.\n",
    "\n",
    "1. Multiplying weight matrix W_QK and W_OV yields large diagonal values\n",
    "   \n",
    "2. The top right singular subspace of W_QK matches the top left singular subspaec of W_OV\n",
    "   \n",
    "3. (Invariance) Shuffling induction heads do not significantly impact performance of copying\n",
    "\n",
    "4. (Common subspace as composition pathway) Project out common subspace in induction heads disables copying, while only keeping common subspace is sufficient for copying"
   ]
  },
  {
   "cell_type": "code",
   "execution_count": 2,
   "metadata": {},
   "outputs": [],
   "source": [
    "import torch\n",
    "import numpy as np\n",
    "import os\n",
    "import math\n",
    "import warnings\n",
    "from tqdm import tqdm\n",
    "import matplotlib.pyplot as plt\n",
    "from sklearn.preprocessing import normalize\n",
    "import seaborn as sns\n",
    "from torch.nn import functional as F\n",
    "\n",
    "from transformers import logging\n",
    "from transformers import set_seed\n",
    "from transformers import GPT2Model, GPT2Config\n",
    "from transformers import GPT2Tokenizer\n",
    "\n",
    "from analysis_utils import create_folder, qkov_matching, subspace_matching\n",
    "\n",
    "set_seed(2024)"
   ]
  },
  {
   "cell_type": "code",
   "execution_count": 1,
   "metadata": {},
   "outputs": [
    {
     "data": {
      "application/vnd.jupyter.widget-view+json": {
       "model_id": "ccc5b646052945958cb6dc6b22d5b4e6",
       "version_major": 2,
       "version_minor": 0
      },
      "text/plain": [
       "Loading checkpoint shards:   0%|          | 0/2 [00:00<?, ?it/s]"
      ]
     },
     "metadata": {},
     "output_type": "display_data"
    },
    {
     "data": {
      "text/plain": [
       "GemmaForCausalLM(\n",
       "  (model): GemmaModel(\n",
       "    (embed_tokens): Embedding(256000, 2048, padding_idx=0)\n",
       "    (layers): ModuleList(\n",
       "      (0-17): 18 x GemmaDecoderLayer(\n",
       "        (self_attn): GemmaAttention(\n",
       "          (q_proj): Linear(in_features=2048, out_features=2048, bias=False)\n",
       "          (k_proj): Linear(in_features=2048, out_features=256, bias=False)\n",
       "          (v_proj): Linear(in_features=2048, out_features=256, bias=False)\n",
       "          (o_proj): Linear(in_features=2048, out_features=2048, bias=False)\n",
       "          (rotary_emb): GemmaRotaryEmbedding()\n",
       "        )\n",
       "        (mlp): GemmaMLP(\n",
       "          (gate_proj): Linear(in_features=2048, out_features=16384, bias=False)\n",
       "          (up_proj): Linear(in_features=2048, out_features=16384, bias=False)\n",
       "          (down_proj): Linear(in_features=16384, out_features=2048, bias=False)\n",
       "          (act_fn): GELUActivation()\n",
       "        )\n",
       "        (input_layernorm): GemmaRMSNorm()\n",
       "        (post_attention_layernorm): GemmaRMSNorm()\n",
       "      )\n",
       "    )\n",
       "    (norm): GemmaRMSNorm()\n",
       "  )\n",
       "  (lm_head): Linear(in_features=2048, out_features=256000, bias=False)\n",
       ")"
      ]
     },
     "execution_count": 1,
     "metadata": {},
     "output_type": "execute_result"
    }
   ],
   "source": [
    "from transformers import GemmaForCausalLM, GemmaTokenizer\n",
    "\n",
    "gemma = GemmaForCausalLM.from_pretrained(\"google/gemma-2b\", output_attentions=True)\n",
    "tokenizer = GemmaTokenizer.from_pretrained(\"google/gemma-2b\")\n",
    "gemma"
   ]
  },
  {
   "cell_type": "markdown",
   "metadata": {},
   "source": [
    "### NOTE: run Step 1-1-1, 1-1-2, 1-1-3, 1-1-4, 1-1-5 to get started. "
   ]
  },
  {
   "cell_type": "markdown",
   "metadata": {},
   "source": [
    "### Calulating embeddings and matrices"
   ]
  },
  {
   "cell_type": "markdown",
   "metadata": {},
   "source": [
    "### Step 1-1-1: loading GPT-2 and setting global variables"
   ]
  },
  {
   "cell_type": "code",
   "execution_count": 3,
   "metadata": {},
   "outputs": [
    {
     "data": {
      "text/plain": [
       "(12, 12, 15, 15)"
      ]
     },
     "execution_count": 3,
     "metadata": {},
     "output_type": "execute_result"
    }
   ],
   "source": [
    "configuration = GPT2Config()\n",
    "model = GPT2Model.from_pretrained(\"gpt2\", output_attentions=True)\n",
    "configuration = model.config\n",
    "tokenizer = GPT2Tokenizer.from_pretrained(\"gpt2\")\n",
    "vocab_size = 50257\n",
    "T0 = 5\n",
    "\n",
    "sample_int = (\n",
    "    np.random.randint(low=0, high=vocab_size, size=T0)\n",
    "    .repeat(3)\n",
    "    .reshape(T0, -1)\n",
    "    .T.ravel()\n",
    ")\n",
    "input_ids = torch.Tensor(sample_int).long().unsqueeze(0)\n",
    "\n",
    "with torch.no_grad():\n",
    "    output = model(\n",
    "        input_ids\n",
    "    )  # (num_layer, num_head, seq_length, seq_length) = (12, 12, 15, 15)\n",
    "len(output.attentions), output.attentions[0].size()\n",
    "\n",
    "attentions = np.array([a.detach().numpy()[0] for a in output.attentions])\n",
    "attentions.shape"
   ]
  },
  {
   "cell_type": "markdown",
   "metadata": {},
   "source": [
    "### Step 1-1-2: Calculating embeddings for each sublayer"
   ]
  },
  {
   "cell_type": "code",
   "execution_count": 4,
   "metadata": {},
   "outputs": [],
   "source": [
    "num_layer = 12\n",
    "num_heads = 12\n",
    "d_model = 768\n",
    "d_head = d_model // num_heads\n",
    "seq_len = input_ids.size(1)\n",
    "\n",
    "model.eval()\n",
    "\n",
    "hiddens_all = torch.zeros(num_layer + 1, 6, seq_len, d_model)\n",
    "\n",
    "h = model.wte(input_ids)\n",
    "pos = torch.arange(0, seq_len, dtype=torch.long).unsqueeze(0)\n",
    "h = model.drop(model.wte(input_ids) + model.wpe(pos))\n",
    "hiddens_all[0] = h.squeeze()\n",
    "for layer in range(num_layer):\n",
    "    h2 = model.h[layer].ln_1(h)  # LayerNorm_1 output embeddings, (seq_length, d_model)\n",
    "    h4 = model.h[layer].attn(h2)[\n",
    "        0\n",
    "    ]  # Self-attention output embeddings (seq_length, d_model)\n",
    "    h5 = h + h4  # Adding with identity component, (seq_length, d_model)\n",
    "    h6 = model.h[layer].ln_2(h5)  # LayerNorm_2 output embeddings, (seq_length, d_model)\n",
    "    h = model.h[layer](h)[0]  # Next-layer embeddings, (seq_length, d_model)\n",
    "\n",
    "    hiddens_all[layer + 1, 0] = h.squeeze()\n",
    "    hiddens_all[layer, 1] = h2.squeeze()\n",
    "    # hiddens_all[layer, 2] = torch.tensor(attentions[layer,layer,:,:]) @ h2.squeeze()  # NOT CORRECT\n",
    "    hiddens_all[layer, 3] = h4.squeeze()\n",
    "    hiddens_all[layer, 4] = h5.squeeze()\n",
    "    hiddens_all[layer, 5] = h6.squeeze()\n",
    "\n",
    "\n",
    "def cosine_sim(x, y, prec_digit=4):\n",
    "    x, y = torch.tensor(x), torch.tensor(y)\n",
    "    out = torch.sum(x * y) / (torch.norm(x) * torch.norm(y))\n",
    "    return np.around(out.numpy(force=True), decimals=prec_digit)\n",
    "\n",
    "\n",
    "def matrix_mask(d, return_one=True, offsets=[0]):\n",
    "    offsets = [torch.tensor(offset) for offset in offsets]\n",
    "    mask = torch.zeros(d, d, dtype=torch.bool)\n",
    "    for offset in offsets:\n",
    "        mask += torch.diag(torch.ones(d - torch.abs(offset), dtype=torch.bool), offset)\n",
    "    mask = mask if return_one else ~mask\n",
    "    return mask"
   ]
  },
  {
   "cell_type": "markdown",
   "metadata": {},
   "source": [
    "### Step 1-1-3: Calculating QK and OV matrices for all layers"
   ]
  },
  {
   "cell_type": "code",
   "execution_count": 5,
   "metadata": {},
   "outputs": [],
   "source": [
    "W0 = model.wte.weight\n",
    "vals_flip, vecs_flip = np.linalg.eigh((W0.T @ W0).numpy(force=True))\n",
    "vals, vecs = vals_flip[::-1], vecs_flip[:, ::-1]\n",
    "\n",
    "W_all = torch.zeros(num_layer, num_heads, 4, d_model, d_head)\n",
    "\n",
    "for layer in range(num_layer):\n",
    "    W_q, W_k, W_v = model.h[layer].attn.c_attn.weight.split(d_model, dim=1)\n",
    "    W_q = W_q.view(d_model, num_heads, d_model // num_heads)\n",
    "    W_k = W_k.view(d_model, num_heads, d_model // num_heads)\n",
    "    W_v = W_v.view(d_model, num_heads, d_model // num_heads)\n",
    "    W_o = model.h[layer].attn.c_proj.weight.view(\n",
    "        num_heads, d_model // num_heads, d_model\n",
    "    )\n",
    "\n",
    "    for head in range(num_heads):\n",
    "        W_all[layer, head, 0] = W_q[:, head, :]  # (d_model, d_head)\n",
    "        W_all[layer, head, 1] = W_k[:, head, :]  # (d_model, d_head)\n",
    "        W_all[layer, head, 2] = W_v[:, head, :]  # (d_model, d_head)\n",
    "        W_all[layer, head, 3] = W_o[head, :, :].T  # (d_model, d_head)"
   ]
  },
  {
   "cell_type": "markdown",
   "metadata": {},
   "source": [
    "### Step 1-1-4: Measuring induction head (ranking most likely induction head to most unlikely)"
   ]
  },
  {
   "cell_type": "code",
   "execution_count": 6,
   "metadata": {},
   "outputs": [
    {
     "name": "stdout",
     "output_type": "stream",
     "text": [
      "Layer 5 Head 1: score 0.9953717850148678\n",
      "Layer 5 Head 5: score 0.9902818202972412\n",
      "Layer 6 Head 9: score 0.9886472046375274\n",
      "Layer 7 Head 10: score 0.9395123027265072\n",
      "Layer 5 Head 8: score 0.921284668892622\n",
      "Layer 10 Head 7: score 0.9204489454627037\n",
      "Layer 5 Head 0: score 0.88764777071774\n",
      "Layer 7 Head 2: score 0.8102712273597718\n",
      "Layer 10 Head 1: score 0.805915080010891\n",
      "Layer 9 Head 9: score 0.7934778049588204\n",
      "Layer 9 Head 6: score 0.7573517814278603\n",
      "Layer 11 Head 10: score 0.7551813259720802\n",
      "Layer 6 Head 1: score 0.6811699584126473\n",
      "Layer 10 Head 6: score 0.6629791051149369\n",
      "Layer 8 Head 1: score 0.6548118874430656\n",
      "Layer 10 Head 0: score 0.6461947090923786\n",
      "Layer 7 Head 11: score 0.6174159724265337\n",
      "Layer 8 Head 6: score 0.5985757991671562\n",
      "Layer 10 Head 10: score 0.5727812275290489\n",
      "Layer 8 Head 11: score 0.5598440110683441\n",
      "Layer 9 Head 1: score 0.5226531833410263\n"
     ]
    }
   ],
   "source": [
    "dir_name = \"simple_visz\"\n",
    "create_folder(dir_name)\n",
    "filename = os.path.join(dir_name, f\"induction_head_scores.txt\")\n",
    "\n",
    "scores = np.zeros((num_layer, num_heads))\n",
    "for layer in range(num_layer):\n",
    "    for head in range(num_heads):\n",
    "        A = attentions[layer, head]\n",
    "        A_adjusted = np.zeros((seq_len, seq_len))\n",
    "        A_adjusted[1:, 1:] = A[1:, 1:] / np.sum(A[1:, 1:], axis=1, keepdims=True)\n",
    "        diag1 = np.diag(A_adjusted, -(T0 - 1))[1:]\n",
    "        diag2 = np.diag(A_adjusted, -(2 * T0 - 1))[1:]\n",
    "        diag = np.concatenate((diag1[:-T0], diag1[-T0:] + diag2))\n",
    "        scores[layer, head] = np.mean(diag)\n",
    "\n",
    "idx_sort = np.argsort(scores, axis=None)[::-1]\n",
    "IH_list = [\n",
    "    [idx_sort[j] // num_heads, idx_sort[j] % num_heads] for j in range(len(idx_sort))\n",
    "]\n",
    "\n",
    "with open(filename, \"w\") as file:\n",
    "    print(\n",
    "        f\"Ranking induction heads (most likely to unlikely) by attention scores\",\n",
    "        file=file,\n",
    "    )\n",
    "    for j, pair in enumerate(IH_list):\n",
    "        layer, head = pair[0], pair[1]\n",
    "        print(f\"Layer {layer} Head {head}: score {scores[layer, head]}\", file=file)\n",
    "        if j <= 20:\n",
    "            print(f\"Layer {layer} Head {head}: score {scores[layer, head]}\")"
   ]
  },
  {
   "cell_type": "markdown",
   "metadata": {},
   "source": [
    "### Step 1-1-5: Measuring Shifting Head (ranking most likely induction head to most unlikely)"
   ]
  },
  {
   "cell_type": "code",
   "execution_count": 7,
   "metadata": {},
   "outputs": [
    {
     "name": "stdout",
     "output_type": "stream",
     "text": [
      "Layer 4 Head 11: score 0.9993197276042058\n",
      "Layer 5 Head 6: score 0.7670075434904832\n",
      "Layer 6 Head 8: score 0.7444457411766052\n",
      "Layer 3 Head 7: score 0.640053208057697\n",
      "Layer 3 Head 3: score 0.5796716167376592\n",
      "Layer 2 Head 2: score 0.5276686915984521\n",
      "Layer 7 Head 0: score 0.5010626384845147\n",
      "Layer 2 Head 5: score 0.48505993760549104\n",
      "Layer 3 Head 2: score 0.43790112837002826\n",
      "Layer 3 Head 8: score 0.4295523739778079\n",
      "Layer 4 Head 3: score 0.41924109481848204\n",
      "Layer 5 Head 4: score 0.41646881516163164\n",
      "Layer 8 Head 7: score 0.411526409479288\n",
      "Layer 2 Head 9: score 0.4076269922348169\n",
      "Layer 3 Head 6: score 0.3934386917031728\n",
      "Layer 2 Head 8: score 0.3858961043162988\n",
      "Layer 4 Head 6: score 0.3732431691426497\n",
      "Layer 7 Head 8: score 0.36464981505504024\n",
      "Layer 2 Head 3: score 0.35175169431246245\n",
      "Layer 6 Head 0: score 0.3336490748020319\n",
      "Layer 5 Head 2: score 0.3260213073629599\n"
     ]
    }
   ],
   "source": [
    "dir_name = \"simple_visz\"\n",
    "create_folder(dir_name)\n",
    "filename = os.path.join(dir_name, f\"shifting_head_scores.txt\")\n",
    "\n",
    "scores = np.zeros((num_layer, num_heads))\n",
    "for layer in range(num_layer):\n",
    "    for head in range(num_heads):\n",
    "        A = attentions[layer, head]\n",
    "        A_adjusted = np.zeros((seq_len, seq_len))\n",
    "        A_adjusted[1:, 1:] = A[1:, 1:] / np.sum(A[1:, 1:], axis=1, keepdims=True)\n",
    "        diag = np.diag(A_adjusted, -1)[1:]\n",
    "        scores[layer, head] = np.mean(diag)\n",
    "\n",
    "idx_sort = np.argsort(scores, axis=None)[::-1]\n",
    "Shifting_list = [\n",
    "    [idx_sort[j] // num_heads, idx_sort[j] % num_heads] for j in range(len(idx_sort))\n",
    "]\n",
    "\n",
    "with open(filename, \"w\") as file:\n",
    "    print(\n",
    "        f\"Ranking shifting heads (most likely to unlikely) by attention scores\",\n",
    "        file=file,\n",
    "    )\n",
    "    for j, pair in enumerate(Shifting_list):\n",
    "        layer, head = pair[0], pair[1]\n",
    "        print(f\"Layer {layer} Head {head}: score {scores[layer, head]}\", file=file)\n",
    "        if j <= 20:\n",
    "            print(f\"Layer {layer} Head {head}: score {scores[layer, head]}\")"
   ]
  },
  {
   "cell_type": "markdown",
   "metadata": {},
   "source": [
    "## Below we provide evidence for our claims"
   ]
  },
  {
   "cell_type": "markdown",
   "metadata": {},
   "source": [
    "### Claim 1: large diagonal values in W_qkov\n",
    "\n",
    "**We plan to select a few representative heatmaps of W_qkov to show.**\n",
    "\n",
    "**Further, we plan to calculate and perhaps show some statistics**\n",
    "\n",
    "1. qkov_matching_summary calculates z-scores of every top (IH, Shifting head) pair, and plots a heatmap. A value bigger than 2 suggests that diagonal line is significantly larger than other off-diagonal values.\n",
    "\n",
    "2. We need to pay attention to how to choose the thresholds for determining \"top\" IH and Shifting heads. Here for simplicity, I just choose top-10 heads. Perhaps there are more clear induction heads and fewer clear shifting heads.\n"
   ]
  },
  {
   "cell_type": "code",
   "execution_count": 8,
   "metadata": {},
   "outputs": [],
   "source": [
    "create_folder(\"Figs\")\n",
    "create_folder(\"Figs/diagonal\")\n",
    "\n",
    "res = qkov_matching(W_all, IH_list[:10], \"Figs/diagonal\")"
   ]
  },
  {
   "cell_type": "code",
   "execution_count": 9,
   "metadata": {},
   "outputs": [],
   "source": [
    "from analysis_utils import qkov_matching_summary\n",
    "\n",
    "K0, K1 = 20, 20\n",
    "scores = qkov_matching_summary(W_all, IH_list[:K0], Shifting_list[:K1], \"Figs/diagonal\")"
   ]
  },
  {
   "cell_type": "markdown",
   "metadata": {},
   "source": [
    "### Claim 2: subspace matching\n",
    "\n",
    "**Generalized cosine similarity**: to measure how similar two subspaces are, I use two methods named \"largest\" and \"mean\". Both methods give values between 0 (orthogonal) to 1 (aligned).\n",
    "\n",
    "- \"largest\" is a favorable score that finds the best vectors in each subspaces to maximize the regular cosine similarity\n",
    "- \"mean\" reflects how similar a random vector in a subspace is to a random vector in another subspace\n",
    "\n",
    "**Three matching measurements**: Among induction heads, among shifting heads, and between IH and shifting\n",
    "\n",
    "**Finding**\n",
    "- Under \"largest\", many subspaces match well (score > 0.8)\n",
    "- Under \"mean\", many subspaces are positively correlated (0.2--0.6). It suggests subspaces are not perfectly aligned, but there are nontrivial correlation and much better than random subspaces (which are almost orthogonal, values << 0.1)"
   ]
  },
  {
   "cell_type": "code",
   "execution_count": 10,
   "metadata": {},
   "outputs": [
    {
     "name": "stderr",
     "output_type": "stream",
     "text": [
      "100%|██████████| 50/50 [00:11<00:00,  4.40it/s]\n",
      "100%|██████████| 50/50 [00:10<00:00,  4.56it/s]\n",
      "100%|██████████| 50/50 [00:11<00:00,  4.52it/s]\n"
     ]
    }
   ],
   "source": [
    "K = 10\n",
    "s_match1, match_baseline1 = subspace_matching(\n",
    "    W_all, \"Figs/subspace_matching_IH\", IH_list=IH_list[:K], ranks=[2, 3, 5, 10]\n",
    ")\n",
    "s_match2, match_baseline2 = subspace_matching(\n",
    "    W_all,\n",
    "    \"Figs/subspace_matching_SH\",\n",
    "    Shifting_list=Shifting_list[:K],\n",
    "    ranks=[2, 3, 5, 10],\n",
    ")\n",
    "s_match3, match_baseline3 = subspace_matching(\n",
    "    W_all,\n",
    "    \"Figs/subspace_matching_IH_SH\",\n",
    "    IH_list=IH_list[:K],\n",
    "    Shifting_list=Shifting_list[:K],\n",
    "    ranks=[2, 3, 5, 10],\n",
    ")"
   ]
  },
  {
   "cell_type": "markdown",
   "metadata": {},
   "source": [
    "### Claim 3: invariance under shuffling\n",
    "\n",
    "**Error reporting for edited models**. I used a batch of repeated random tokens to measure how well an edited model performs copying.\n",
    "\n",
    "\n",
    "**Ideal plots**. We hope to see prediction errors remain low under random shuffling, and random baseline has high errors. As we increase more heads to shuffle, prediction errors increase.\n",
    "\n",
    "**Issues**.\n",
    "\n",
    "1. **High variability**. Because each edited model only use one random permutation, its performance depends on how several important heads are permuted. To draw conclusions, we should run many independent experiments. Below for conveience I use run one experiment for each K.\n",
    "\n",
    "2. **Results about shifting heads are weird**. Is it due to variability? Is there a bug? When I increase K, errors of original, edited, random baseline are similar."
   ]
  },
  {
   "cell_type": "code",
   "execution_count": 11,
   "metadata": {},
   "outputs": [
    {
     "name": "stderr",
     "output_type": "stream",
     "text": [
      "100%|██████████| 16/16 [04:10<00:00, 15.67s/it]\n"
     ]
    }
   ],
   "source": [
    "from analysis_utils import exchange_edit, pred_probs, shuffle_exp\n",
    "\n",
    "seg_len = 20  # repeating segment length\n",
    "for K in tqdm(range(5, 21)):\n",
    "    K0, K1 = K, K\n",
    "    save_dir = \"Figs/shuffle\"\n",
    "    probs_QK, errs_QK = shuffle_exp(\n",
    "        model,\n",
    "        configuration,\n",
    "        seg_len,\n",
    "        vocab_size,\n",
    "        IH_list[:K0],\n",
    "        save_dir,\n",
    "        component=\"QK\",\n",
    "    )\n",
    "    probs_OV, errs_OV = shuffle_exp(\n",
    "        model,\n",
    "        configuration,\n",
    "        seg_len,\n",
    "        vocab_size,\n",
    "        Shifting_list[:K1],\n",
    "        save_dir,\n",
    "        component=\"OV\",\n",
    "    )"
   ]
  },
  {
   "cell_type": "markdown",
   "metadata": {},
   "source": [
    "### Claim 4: projecting weight matrix\n",
    "\n",
    "- Experiments on induction heads suggest common subspace of rank ~ 50 is crucial for copying.\n",
    "\n",
    "- Experiments on shifting heads are bad. I don't know if there is a bug."
   ]
  },
  {
   "cell_type": "code",
   "execution_count": 12,
   "metadata": {},
   "outputs": [
    {
     "name": "stderr",
     "output_type": "stream",
     "text": [
      "100%|██████████| 20/20 [03:26<00:00, 10.31s/it]\n"
     ]
    }
   ],
   "source": [
    "from analysis_utils import project_exp\n",
    "\n",
    "save_dir = \"Figs/project\"\n",
    "seg_len = 20\n",
    "probs, errs = project_exp(\n",
    "    model,\n",
    "    configuration,\n",
    "    W_all,\n",
    "    seg_len,\n",
    "    vocab_size,\n",
    "    IH_list[:10],\n",
    "    IH_list[:30],\n",
    "    save_dir,\n",
    "    component=\"QK\",\n",
    "    project_out=True,\n",
    ")"
   ]
  },
  {
   "cell_type": "code",
   "execution_count": 13,
   "metadata": {},
   "outputs": [
    {
     "name": "stderr",
     "output_type": "stream",
     "text": [
      "100%|██████████| 20/20 [03:25<00:00, 10.26s/it]\n"
     ]
    }
   ],
   "source": [
    "probs, errs = project_exp(\n",
    "    model,\n",
    "    configuration,\n",
    "    W_all,\n",
    "    seg_len,\n",
    "    vocab_size,\n",
    "    IH_list[:10],\n",
    "    IH_list[:30],\n",
    "    save_dir,\n",
    "    component=\"QK\",\n",
    "    project_out=False,\n",
    ")"
   ]
  },
  {
   "cell_type": "code",
   "execution_count": 14,
   "metadata": {},
   "outputs": [
    {
     "name": "stderr",
     "output_type": "stream",
     "text": [
      "100%|██████████| 20/20 [03:29<00:00, 10.46s/it]\n",
      "100%|██████████| 20/20 [03:26<00:00, 10.32s/it]\n"
     ]
    }
   ],
   "source": [
    "from analysis_utils import project_exp\n",
    "\n",
    "save_dir = \"Figs/project\"\n",
    "seg_len = 20\n",
    "\n",
    "probs, errs = project_exp(\n",
    "    model,\n",
    "    configuration,\n",
    "    W_all,\n",
    "    seg_len,\n",
    "    vocab_size,\n",
    "    IH_list[:10],\n",
    "    Shifting_list[:30],\n",
    "    save_dir,\n",
    "    component=\"OV\",\n",
    "    project_out=True,\n",
    "    max_rank=100,\n",
    "    step=5,\n",
    ")\n",
    "probs, errs = project_exp(\n",
    "    model,\n",
    "    configuration,\n",
    "    W_all,\n",
    "    seg_len,\n",
    "    vocab_size,\n",
    "    IH_list[:10],\n",
    "    Shifting_list[:30],\n",
    "    save_dir,\n",
    "    component=\"OV\",\n",
    "    project_out=False,\n",
    "    max_rank=100,\n",
    "    step=5,\n",
    ")"
   ]
  },
  {
   "cell_type": "code",
   "execution_count": null,
   "metadata": {},
   "outputs": [],
   "source": []
  },
  {
   "cell_type": "code",
   "execution_count": null,
   "metadata": {},
   "outputs": [],
   "source": []
  },
  {
   "cell_type": "code",
   "execution_count": null,
   "metadata": {},
   "outputs": [],
   "source": []
  },
  {
   "cell_type": "code",
   "execution_count": 1,
   "metadata": {},
   "outputs": [
    {
     "data": {
      "application/vnd.jupyter.widget-view+json": {
       "model_id": "41bef74e193049cc8d8e11b305959f06",
       "version_major": 2,
       "version_minor": 0
      },
      "text/plain": [
       "Loading checkpoint shards:   0%|          | 0/2 [00:00<?, ?it/s]"
      ]
     },
     "metadata": {},
     "output_type": "display_data"
    },
    {
     "data": {
      "application/vnd.jupyter.widget-view+json": {
       "model_id": "e00119c676a941898ff6907623c826e2",
       "version_major": 2,
       "version_minor": 0
      },
      "text/plain": [
       "Loading checkpoint shards:   0%|          | 0/2 [00:00<?, ?it/s]"
      ]
     },
     "metadata": {},
     "output_type": "display_data"
    }
   ],
   "source": [
    "import copy\n",
    "import torch\n",
    "import numpy as np\n",
    "from transformers import GemmaForCausalLM\n",
    "\n",
    "\n",
    "g1 = GemmaForCausalLM.from_pretrained(\n",
    "    \"google/gemma-2b\",\n",
    "    output_attentions=True,\n",
    "    device_map=\"cuda\",\n",
    "    torch_dtype=torch.bfloat16,\n",
    ")\n",
    "configuration = g1.config\n",
    "\n",
    "g2 = GemmaForCausalLM.from_pretrained(\n",
    "    \"google/gemma-2b\",\n",
    "    output_attentions=True,\n",
    "    device_map=\"cuda\",\n",
    "    torch_dtype=torch.bfloat16,\n",
    ")"
   ]
  },
  {
   "cell_type": "code",
   "execution_count": 2,
   "metadata": {},
   "outputs": [],
   "source": [
    "W_all = torch.load(\"W_all.pt\")\n",
    "\n",
    "# extract IH list\n",
    "lines = open(\"simple_visz/induction_head_scores.txt\").readlines()\n",
    "IH_list = []\n",
    "for line in lines[1:]:\n",
    "    layerhead = line.split(\":\")[0]\n",
    "    head = layerhead.split(\"Head\")[1]\n",
    "    layer = layerhead.split(\"Head\")[0].split(\"Layer\")[1]\n",
    "    IH_list.append([int(layer), int(head)])\n",
    "\n",
    "\n",
    "# extract Shifting list\n",
    "lines = open(\"simple_visz/shifting_head_scores.txt\").readlines()\n",
    "Shifting_list = []\n",
    "for line in lines[1:]:\n",
    "    layerhead = line.split(\":\")[0]\n",
    "    head = layerhead.split(\"Head\")[1]\n",
    "    layer = layerhead.split(\"Head\")[0].split(\"Layer\")[1]\n",
    "    Shifting_list.append([int(layer), int(head)])\n",
    "\n",
    "LayerHeadPairs, LayerHeadPairs0 = IH_list, Shifting_list\n",
    "\n",
    "T0 = 20  # repeating segment length\n",
    "T_cnt = T0 + T0 // 2  # starting position when calculating accuracy\n",
    "K0, K = len(LayerHeadPairs0), len(LayerHeadPairs)\n",
    "batch_size = 50\n",
    "rep = 3\n",
    "sample_int = np.random.randint(\n",
    "    low=0, high=configuration.vocab_size, size=batch_size * T0\n",
    ").reshape(batch_size, T0)\n",
    "sample_int = np.concatenate(tuple([sample_int] * rep), axis=1)\n",
    "input_ids = torch.Tensor(sample_int).long()\n",
    "correct_next_token_ids = torch.Tensor(\n",
    "    np.concatenate((sample_int[:, 1:], sample_int[:, :1]), axis=1)\n",
    ").long()"
   ]
  },
  {
   "cell_type": "code",
   "execution_count": 3,
   "metadata": {},
   "outputs": [],
   "source": [
    "import torch.nn.functional as F\n",
    "\n",
    "\n",
    "def pred(model, batch_size=50):\n",
    "    with torch.no_grad():\n",
    "        for i in range(batch_size // 5):\n",
    "            cur_batch_input_ids = input_ids.cuda()[i * 5 : i * 5 + 5]\n",
    "            if i == 0:\n",
    "                out = model.model(cur_batch_input_ids)[0]\n",
    "            else:\n",
    "                out = torch.concat([out, model.model(cur_batch_input_ids)[0]])\n",
    "    W_out_embed = model.lm_head.weight\n",
    "    logits = out @ W_out_embed.T\n",
    "\n",
    "    B, T = 50, 60\n",
    "    probs = F.softmax(logits, dim=-1)\n",
    "    values, indices = torch.topk(probs, dim=-1, k=2)\n",
    "\n",
    "    indices = indices.numpy(force=True)\n",
    "    return indices[:, T_cnt:-1, 0] != correct_next_token_ids[:, T_cnt:-1:].numpy()"
   ]
  },
  {
   "cell_type": "code",
   "execution_count": 4,
   "metadata": {},
   "outputs": [],
   "source": [
    "r1 = pred(g1)"
   ]
  },
  {
   "cell_type": "code",
   "execution_count": 5,
   "metadata": {},
   "outputs": [
    {
     "data": {
      "text/plain": [
       "0.24551724137931036"
      ]
     },
     "execution_count": 5,
     "metadata": {},
     "output_type": "execute_result"
    }
   ],
   "source": [
    "np.mean(r1)"
   ]
  },
  {
   "cell_type": "code",
   "execution_count": 14,
   "metadata": {},
   "outputs": [],
   "source": [
    "import gc\n",
    "from analysis_utils import custom_svd\n",
    "\n",
    "num_layer, num_heads, _, d_model, d_head = W_all.shape\n",
    "\n",
    "K = 10\n",
    "LayerHeadPairs = IH_list\n",
    "W_qk_all = np.zeros((K, d_model, d_model))\n",
    "for i in range(K):\n",
    "    Layer, Head = LayerHeadPairs[i][0], LayerHeadPairs[i][1]\n",
    "    W_qk = W_all[Layer, Head, 0] @ W_all[Layer, Head, 1].T\n",
    "    W_qk_all[i] = W_qk.numpy(force=True)\n",
    "\n",
    "U, S, Vt_common = custom_svd(W_qk_all.reshape(-1, d_model))  # takes long"
   ]
  },
  {
   "cell_type": "code",
   "execution_count": 15,
   "metadata": {},
   "outputs": [
    {
     "data": {
      "application/vnd.jupyter.widget-view+json": {
       "model_id": "63bbcd908e8c4fe9be098087f92a67d4",
       "version_major": 2,
       "version_minor": 0
      },
      "text/plain": [
       "Loading checkpoint shards:   0%|          | 0/2 [00:00<?, ?it/s]"
      ]
     },
     "metadata": {},
     "output_type": "display_data"
    },
    {
     "name": "stdout",
     "output_type": "stream",
     "text": [
      "projecting before 5 5\n",
      "28.33353614807129\n",
      "after 28.33353614807129\n",
      "projecting before 11 3\n",
      "3.3047075271606445\n",
      "after 3.3047075271606445\n",
      "projecting before 14 4\n",
      "-12.758539199829102\n",
      "after -12.758539199829102\n",
      "projecting before 11 5\n",
      "3.3047075271606445\n",
      "after 3.3047075271606445\n",
      "projecting before 16 7\n",
      "6.375309467315674\n",
      "after 6.375309467315674\n",
      "projecting before 14 0\n",
      "-12.758539199829102\n",
      "after -12.758539199829102\n",
      "projecting before 14 1\n",
      "-12.758539199829102\n",
      "after -12.758539199829102\n",
      "projecting before 11 2\n",
      "3.3047075271606445\n",
      "after 3.3047075271606445\n",
      "projecting before 16 2\n",
      "6.375309467315674\n",
      "after 6.375309467315674\n",
      "projecting before 15 0\n",
      "6.649350166320801\n",
      "after 6.649350166320801\n"
     ]
    }
   ],
   "source": [
    "try:\n",
    "    del g2\n",
    "    torch.cuda.empty_cache()\n",
    "    gc.collect()\n",
    "except:\n",
    "    print(\"Deletion completed\")\n",
    "\n",
    "\n",
    "g2 = GemmaForCausalLM.from_pretrained(\n",
    "    \"google/gemma-7b\",\n",
    "    output_attentions=True,\n",
    "    device_map=\"cuda\",\n",
    ")\n",
    "\n",
    "\n",
    "rank = 5\n",
    "V = Vt_common[:rank, :].T\n",
    "P = V @ V.T\n",
    "P = np.eye(P.shape[0]) - P\n",
    "\n",
    "for j in range(K):\n",
    "    layer, head = LayerHeadPairs[j][0], LayerHeadPairs[j][1]\n",
    "    print(\"projecting before\", layer, head)\n",
    "    print(g2.model.layers[layer].self_attn.k_proj.weight.T.sum().item())\n",
    "    W = copy.deepcopy(g2.model.layers[layer].self_attn.k_proj.weight.T.data)\n",
    "    W = torch.tensor(P, device=\"cuda\").float() @ W\n",
    "    g2.model.layers[layer].self_attn.k_proj.weight.T.data = W\n",
    "    print(\"after\", g2.model.layers[layer].self_attn.k_proj.weight.T.sum().item())"
   ]
  },
  {
   "cell_type": "code",
   "execution_count": 42,
   "metadata": {},
   "outputs": [
    {
     "data": {
      "text/plain": [
       "array([[ 5.92451284e-04,  2.95168977e-04, -1.50774084e-03, ...,\n",
       "         1.14996074e-03, -2.37759054e-04,  7.37617643e-05],\n",
       "       [ 2.95168977e-04,  1.47058041e-04, -7.51181293e-04, ...,\n",
       "         5.72929360e-04, -1.18455472e-04,  3.67493246e-05],\n",
       "       [-1.50774084e-03, -7.51181293e-04,  3.83707911e-03, ...,\n",
       "        -2.92655754e-03,  6.05077659e-04, -1.87717754e-04],\n",
       "       ...,\n",
       "       [ 1.14996074e-03,  5.72929360e-04, -2.92655754e-03, ...,\n",
       "         2.23209863e-03, -4.61495459e-04,  1.43173178e-04],\n",
       "       [-2.37759054e-04, -1.18455472e-04,  6.05077659e-04, ...,\n",
       "        -4.61495459e-04,  9.54160608e-05, -2.96016361e-05],\n",
       "       [ 7.37617643e-05,  3.67493246e-05, -1.87717754e-04, ...,\n",
       "         1.43173178e-04, -2.96016361e-05,  9.18353631e-06]])"
      ]
     },
     "execution_count": 42,
     "metadata": {},
     "output_type": "execute_result"
    }
   ],
   "source": [
    "V = Vt_common[:1, :].T\n",
    "P = V @ V.T"
   ]
  },
  {
   "cell_type": "code",
   "execution_count": null,
   "metadata": {},
   "outputs": [],
   "source": []
  },
  {
   "cell_type": "code",
   "execution_count": 23,
   "metadata": {},
   "outputs": [
    {
     "data": {
      "text/plain": [
       "(tensor(28.3750, device='cuda:0', dtype=torch.bfloat16, grad_fn=<SumBackward0>),\n",
       " tensor(28.3750, device='cuda:0', dtype=torch.bfloat16, grad_fn=<SumBackward0>))"
      ]
     },
     "execution_count": 23,
     "metadata": {},
     "output_type": "execute_result"
    }
   ],
   "source": [
    "g2.model.layers[5].self_attn.k_proj.weight.sum(), g1.model.layers[\n",
    "    5\n",
    "].self_attn.k_proj.weight.sum(),"
   ]
  },
  {
   "cell_type": "code",
   "execution_count": null,
   "metadata": {},
   "outputs": [],
   "source": [
    "r2 = pred(g2)"
   ]
  },
  {
   "cell_type": "code",
   "execution_count": null,
   "metadata": {},
   "outputs": [],
   "source": []
  },
  {
   "cell_type": "code",
   "execution_count": null,
   "metadata": {},
   "outputs": [],
   "source": []
  },
  {
   "cell_type": "code",
   "execution_count": null,
   "metadata": {},
   "outputs": [],
   "source": []
  }
 ],
 "metadata": {
  "kernelspec": {
   "display_name": "base",
   "language": "python",
   "name": "python3"
  },
  "language_info": {
   "codemirror_mode": {
    "name": "ipython",
    "version": 3
   },
   "file_extension": ".py",
   "mimetype": "text/x-python",
   "name": "python",
   "nbconvert_exporter": "python",
   "pygments_lexer": "ipython3",
   "version": "3.11.5"
  }
 },
 "nbformat": 4,
 "nbformat_minor": 2
}
